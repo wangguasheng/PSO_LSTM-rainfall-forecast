{
 "cells": [
  {
   "cell_type": "code",
   "execution_count": null,
   "id": "d1ec1ff8",
   "metadata": {},
   "outputs": [],
   "source": [
    "# -*- coding: utf-8 -*-\n",
    "# 1.导入包以及设置随机种子\n",
    "import numpy as np\n",
    "import torch\n",
    "import torch.nn as nn\n",
    "import torch.nn.functional as F\n",
    "import numpy as np\n",
    "import pandas as pd\n",
    "from math import sqrt\n",
    "import time\n",
    "\n",
    "from sklearn.model_selection import train_test_split\n",
    "from sklearn.preprocessing import MinMaxScaler\n",
    "import matplotlib.pyplot as plt\n",
    "%matplotlib inline\n",
    "\n",
    "import random\n",
    "seed = 42\n",
    "torch.manual_seed(seed)\n",
    "np.random.seed(seed)\n",
    "random.seed(seed)"
   ]
  },
  {
   "cell_type": "code",
   "execution_count": null,
   "id": "81b63d24",
   "metadata": {},
   "outputs": [],
   "source": [
    "#定义数据集函数  \n",
    "class Mydataset(torch.utils.data.Dataset):\n",
    "    def __init__(self, features, labels):\n",
    "        self.features = features\n",
    "        self.labels = labels\n",
    "        \n",
    "    def __getitem__(self, index):\n",
    "        feature = self.features[index]\n",
    "        label = self.labels[index]\n",
    "        return feature, label\n",
    "\n",
    "    def __len__(self):\n",
    "        return len(self.features)\n",
    "    \n",
    "# 2.定义模型\n",
    "class Net(nn.Module):\n",
    "    def __init__(self, hidden_size):\n",
    "        super(Net, self).__init__()\n",
    "        self.rnn = nn.LSTM(args.dimension, \n",
    "                           hidden_size,\n",
    "                           args.layers,\n",
    "                           batch_first=True)\n",
    "        self.fc1 = nn.Linear(hidden_size, 128)\n",
    "        self.fc2 = nn.Linear(128, 1)\n",
    "\n",
    "    def forward(self, inputs):\n",
    "       \n",
    "        s_o,_ = self.rnn(inputs)\n",
    "        s_o = s_o[:, -1, :]\n",
    "        x = F.dropout(F.relu(self.fc1(s_o)),0.2,training=True)\n",
    "        x = F.relu(self.fc2(x))\n",
    "        return torch.squeeze(x)"
   ]
  },
  {
   "cell_type": "code",
   "execution_count": null,
   "id": "9e08b243",
   "metadata": {},
   "outputs": [],
   "source": [
    "def DC(xs, xo) -> float: #纳什效率系数\n",
    "    x_mean = xo.mean()\n",
    "    SST = np.sum((xo - x_mean) ** 2)\n",
    "    SSRes = np.sum((xo - xs) ** 2)\n",
    "    DC = 1 - (SSRes / SST)\n",
    "    print(\"纳什效率系数为\"+str(DC))\n",
    "    return DC"
   ]
  },
  {
   "cell_type": "code",
   "execution_count": null,
   "id": "b5905f14",
   "metadata": {},
   "outputs": [],
   "source": [
    "#加载模型\n",
    "model = torch.load(\"model/lstm_mode.pth\")"
   ]
  },
  {
   "cell_type": "code",
   "execution_count": null,
   "id": "100448dc",
   "metadata": {},
   "outputs": [],
   "source": [
    "datatest = pd.read_csv('./testdata.csv',low_memory=False)\n",
    "\n",
    "datatest.set_index('time', inplace=True)\n",
    "\n",
    "#rainfall=datatest.iloc[startNO, 0]\n",
    "#print(rainfall)\n",
    "#处理数据\n",
    "data_2 = []\n",
    "for i in range(len(datatest) - args.sequence_length - args.delay):\n",
    "    data_2.append(datatest.iloc[i: i + args.sequence_length + args.delay])\n",
    "data_2 = np.array([df.values for df in data_2])\n",
    "x2 = data_2[:, :-args.delay, :]\n",
    "y2 = data_2[:, -1, 0]\n",
    "x2 = x2.astype(np.float32)\n",
    "y2 = y2.astype(np.float32)\n",
    "#归一化\n",
    "mean2 = x2.mean(axis=0)\n",
    "std2 = x2.std(axis=0)\n",
    "#x2 = (x2 - mean2)/args.STD\n",
    "x2 = (x2 - mean2)/std2\n",
    "#实例化数据集\n",
    "test_ds2 = Mydataset(x2, y2)\n",
    "test_dl2 = torch.utils.data.DataLoader(\n",
    "                                   test_ds2,\n",
    "                                   batch_size=args.BTACH_SIZE\n",
    ")\n",
    " \n",
    "#进行预测\n",
    "model.to('cuda')\n",
    "predictions = []\n",
    "with torch.no_grad():\n",
    "    for x, y in test_dl2:\n",
    "        if torch.cuda.is_available():\n",
    "            x, y = x.to('cuda'), y.to('cuda')\n",
    "        #print(x)\n",
    "        y_pred = model(x)\n",
    "        #print(y_pred)\n",
    "        predictions.append(y_pred.cpu().numpy())\n",
    "\n",
    "#预测结果\n",
    "predictions = np.hstack(predictions)\n"
   ]
  },
  {
   "cell_type": "code",
   "execution_count": null,
   "id": "bc4e10c7",
   "metadata": {},
   "outputs": [],
   "source": [
    "predictions = np.hstack(predictions)\n",
    "\n",
    "plt.plot(y2[:],label=\"target\")\n",
    "plt.plot(predictions[:],label=\"predict\")\n",
    "plt.legend()\n"
   ]
  },
  {
   "cell_type": "code",
   "execution_count": null,
   "id": "c6091531",
   "metadata": {},
   "outputs": [],
   "source": [
    "mse = np.sum((y2 - predictions) ** 2) / len(y2)\n",
    "rmse = sqrt(mse)\n",
    "mae = np.sum(np.absolute(y2 - predictions)) / len(y2)\n",
    "r2 = 1-mse/ np.var(y2)#均方误差/方差\n",
    "print(\" mae:\",mae,\"mse:\",mse,\" rmse:\",rmse,\" r2:\",r2)\n",
    "NH=DC(predictions,y2)"
   ]
  },
  {
   "cell_type": "code",
   "execution_count": null,
   "id": "7c2ae1e6",
   "metadata": {},
   "outputs": [],
   "source": [
    "np.savetxt(\"outputdata.txt\", predictions[:],fmt='%f',delimiter=',')"
   ]
  }
 ],
 "metadata": {
  "kernelspec": {
   "display_name": "torch1.10-cpu",
   "language": "python",
   "name": "torch1.10-cpu"
  },
  "language_info": {
   "codemirror_mode": {
    "name": "ipython",
    "version": 3
   },
   "file_extension": ".py",
   "mimetype": "text/x-python",
   "name": "python",
   "nbconvert_exporter": "python",
   "pygments_lexer": "ipython3",
   "version": "3.7.13"
  }
 },
 "nbformat": 4,
 "nbformat_minor": 5
}
